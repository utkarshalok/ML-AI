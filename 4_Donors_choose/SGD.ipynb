{
 "cells": [
  {
   "cell_type": "code",
   "execution_count": 1,
   "metadata": {},
   "outputs": [],
   "source": [
    "import warnings\n",
    "warnings.filterwarnings(\"ignore\")\n",
    "from sklearn.datasets import load_boston\n",
    "from random import seed\n",
    "from random import randrange\n",
    "from csv import reader\n",
    "from math import sqrt\n",
    "from sklearn import preprocessing\n",
    "import pandas as pd\n",
    "import numpy as np\n",
    "import matplotlib.pyplot as plt\n",
    "from prettytable import PrettyTable\n",
    "from sklearn.linear_model import SGDRegressor\n",
    "from sklearn import preprocessing\n",
    "from sklearn.metrics import mean_squared_error"
   ]
  },
  {
   "cell_type": "code",
   "execution_count": 2,
   "metadata": {},
   "outputs": [],
   "source": [
    "from numpy import *\n"
   ]
  },
  {
   "cell_type": "code",
   "execution_count": 88,
   "metadata": {
    "scrolled": true
   },
   "outputs": [],
   "source": [
    "X=load_boston().data\n",
    "y=load_boston().target\n",
    "from sklearn.preprocessing import StandardScaler\n",
    "scaler = preprocessing.StandardScaler().fit(X)\n",
    "X = scaler.transform(X)"
   ]
  },
  {
   "cell_type": "markdown",
   "metadata": {},
   "source": [
    "** Gradient Descent method**"
   ]
  },
  {
   "cell_type": "code",
   "execution_count": 89,
   "metadata": {},
   "outputs": [],
   "source": [
    "class SGDRegressor:\n",
    "    w = np.random.normal(size=13)\n",
    "    b= np.random.randn(1)\n",
    "    def fit(self,X,y):\n",
    "        \n",
    "        print(SGDRegressor.b)\n",
    "        learning_rate=0.01\n",
    "        itr=100\n",
    "        for j in range(itr):\n",
    "            sum1=0\n",
    "            sum2=0\n",
    "            #For stochastic we could have choosen i randomly from (0,506) , due to small dataset we have schoosen this.\n",
    "            #506 -> len of y dataset.\n",
    "            for i in range(0,506):\n",
    "                sum1 += ((-2*X[i]*(y[i]-(np.matmul(SGDRegressor.w.T,X[i])+SGDRegressor.b))))\n",
    "                sum2 += ((-2*(y[i]-(np.matmul(SGDRegressor.w.T,X[i])+SGDRegressor.b))))\n",
    "                #print(sum)\n",
    "        \n",
    "            SGDRegressor.w= SGDRegressor.w- (learning_rate*(sum1/506))\n",
    "            #print(w)\n",
    "            SGDRegressor.b =SGDRegressor.b- learning_rate*(sum2/506)\n",
    "            #if(itr%50==0):\n",
    "            #    learning_rate/=2\n",
    "    def predict(self,y):\n",
    "        print(SGDRegressor.b)\n",
    "        return (SGDRegressor.b+np.matmul(SGDRegressor.w,X.T)) \n",
    "        "
   ]
  },
  {
   "cell_type": "code",
   "execution_count": 90,
   "metadata": {
    "scrolled": true
   },
   "outputs": [
    {
     "name": "stdout",
     "output_type": "stream",
     "text": [
      "[-1.66840433]\n",
      "[19.32325251]\n"
     ]
    }
   ],
   "source": [
    "model=SGDRegressor()\n",
    "model.fit(X,y)\n",
    "y_pred=model.predict(y)\n"
   ]
  },
  {
   "cell_type": "code",
   "execution_count": 91,
   "metadata": {},
   "outputs": [
    {
     "data": {
      "text/plain": [
       "Text(0,0.5,'y pred')"
      ]
     },
     "execution_count": 91,
     "metadata": {},
     "output_type": "execute_result"
    },
    {
     "data": {
      "image/png": "[encoded data removed]",
      "text/plain": [
       "<Figure size 432x288 with 1 Axes>"
      ]
     },
     "metadata": {},
     "output_type": "display_data"
    }
   ],
   "source": [
    "plt.scatter(y,y_pred, color =\"m\",marker = \"o\", s = 30) \n",
    "  \n",
    "# predicted response vector \n",
    "  \n",
    "    # plotting the regression line \n",
    "  \n",
    "    # putting labels \n",
    "plt.xlabel('y true') \n",
    "plt.ylabel('y pred') "
   ]
  },
  {
   "cell_type": "code",
   "execution_count": 92,
   "metadata": {},
   "outputs": [],
   "source": [
    "from sklearn.metrics import mean_squared_error\n",
    "mse = mean_squared_error(y, y_pred)"
   ]
  },
  {
   "cell_type": "code",
   "execution_count": 93,
   "metadata": {},
   "outputs": [
    {
     "data": {
      "text/plain": [
       "35.10570519795894"
      ]
     },
     "execution_count": 93,
     "metadata": {},
     "output_type": "execute_result"
    }
   ],
   "source": [
    "mse"
   ]
  },
  {
   "cell_type": "markdown",
   "metadata": {},
   "source": [
    "**Linear Regression**"
   ]
  },
  {
   "cell_type": "code",
   "execution_count": 94,
   "metadata": {},
   "outputs": [
    {
     "data": {
      "text/plain": [
       "31.71996235202722"
      ]
     },
     "execution_count": 94,
     "metadata": {},
     "output_type": "execute_result"
    }
   ],
   "source": [
    "from sklearn.linear_model import LinearRegression\n",
    "from sklearn.model_selection import train_test_split\n",
    "X_train,X_test,y_train,y_test=train_test_split(X,y,test_size=0.3)\n",
    "lm = LinearRegression()\n",
    "lm.fit(X_train, y_train)\n",
    "\n",
    "y_pred1 = lm.predict(X_test)\n",
    "from sklearn.metrics import mean_squared_error\n",
    "mse = mean_squared_error(y_test, y_pred1)\n",
    "mse"
   ]
  },
  {
   "cell_type": "code",
   "execution_count": null,
   "metadata": {},
   "outputs": [],
   "source": []
  }
 ],
 "metadata": {
  "kernelspec": {
   "display_name": "Python 3",
   "language": "python",
   "name": "python3"
  },
  "language_info": {
   "codemirror_mode": {
    "name": "ipython",
    "version": 3
   },
   "file_extension": ".py",
   "mimetype": "text/x-python",
   "name": "python",
   "nbconvert_exporter": "python",
   "pygments_lexer": "ipython3",
   "version": "3.6.5"
  }
 },
 "nbformat": 4,
 "nbformat_minor": 2
}
