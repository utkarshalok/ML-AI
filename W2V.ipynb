{
 "cells": [
  {
   "cell_type": "markdown",
   "metadata": {},
   "source": [
    "# Co-Occurance Matrix"
   ]
  },
  {
   "cell_type": "markdown",
   "metadata": {},
   "source": [
    "**Co Occurance Matrix is used for finding the semantic relation between the words in the context of words present near by.**"
   ]
  },
  {
   "cell_type": "markdown",
   "metadata": {},
   "source": [
    "<img src=\"files/img1.png\">\n",
    "<img src=\"files/img2.png\">"
   ]
  },
  {
   "cell_type": "code",
   "execution_count": 4,
   "metadata": {},
   "outputs": [
    {
     "name": "stdout",
     "output_type": "stream",
     "text": [
      "[[0. 4. 2. 1. 2. 1.]\n",
      " [4. 0. 1. 2. 2. 1.]\n",
      " [2. 1. 0. 1. 0. 0.]\n",
      " [1. 2. 1. 0. 0. 0.]\n",
      " [2. 2. 0. 0. 0. 0.]\n",
      " [1. 1. 0. 0. 0. 0.]]\n"
     ]
    }
   ],
   "source": [
    "import numpy as np\n",
    "tokens=['He','is','not','lazy','intelligent','smart']\n",
    "window=2\n",
    "m = np.zeros([len(tokens),len(tokens)]) # n is the count of all words\n",
    "def cal_occ(sentence,m):\n",
    "  n=sentence.split()\n",
    "  for i,word in enumerate(sentence.split()):\n",
    "    #print(word)\n",
    "    #print('i--',i)\n",
    "    if word in tokens:\n",
    "      #print('jsf--')\n",
    "      for j in range(max(i-window,0),min(i+window+1,len(n))):\n",
    "        #print('j---',j)\n",
    "        #print(n[j])\n",
    "        if (n[j] in tokens) and (n[j] != word):\n",
    "          #print('jsf')\n",
    "          m[tokens.index(word),tokens.index(n[j])]+=1\n",
    "    else:\n",
    "      continue\n",
    "          \n",
    "          \n",
    "\n",
    "corpus='He is not lazy He is intelligent He is smart'\n",
    "\n",
    "cal_occ(corpus,m)\n",
    "print(m)"
   ]
  },
  {
   "cell_type": "markdown",
   "metadata": {},
   "source": [
    "**Co Occurance Matrix is also used as input in Truncated SVD to reduce the number of components**"
   ]
  },
  {
   "cell_type": "markdown",
   "metadata": {},
   "source": [
    "**Limitation**<br>\n",
    "It takes a huge amount of memory to store the matrix but the number of components can be reduced by factorization "
   ]
  }
 ],
 "metadata": {
  "kernelspec": {
   "display_name": "Python 3",
   "language": "python",
   "name": "python3"
  },
  "language_info": {
   "codemirror_mode": {
    "name": "ipython",
    "version": 3
   },
   "file_extension": ".py",
   "mimetype": "text/x-python",
   "name": "python",
   "nbconvert_exporter": "python",
   "pygments_lexer": "ipython3",
   "version": "3.6.5"
  }
 },
 "nbformat": 4,
 "nbformat_minor": 2
}
